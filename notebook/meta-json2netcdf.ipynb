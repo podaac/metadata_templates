{
 "cells": [
  {
   "cell_type": "markdown",
   "id": "02de21b0",
   "metadata": {},
   "source": [
    "# Metadata json to netCDF converter\n",
    "Converting a jason metadata template file to a comtomized netCDF file, which contains only the header without data. \n",
    "From the template, users could add the attributes and change the value for each attribute for dimensions, global attributes and variables. "
   ]
  },
  {
   "cell_type": "code",
   "execution_count": 29,
   "id": "1d97c631",
   "metadata": {},
   "outputs": [],
   "source": [
    "# Import modules\n",
    "import os \n",
    "import json\n",
    "from netCDF4 import Dataset"
   ]
  },
  {
   "cell_type": "code",
   "execution_count": 30,
   "id": "249bc79d",
   "metadata": {},
   "outputs": [],
   "source": [
    "# Define output nc/json filename\n",
    "#output_file = \"point_mooring\"\n",
    "#output_file = \"profile_ctd\"\n",
    "#output_file = \"profile_sonde\"\n",
    "#output_file = \"satellite_l2\"\n",
    "#output_file = \"satellite_L3_L4\"\n",
    "output_file = \"trajectory_drifter\""
   ]
  },
  {
   "cell_type": "code",
   "execution_count": 31,
   "id": "2a65642b",
   "metadata": {},
   "outputs": [
    {
     "name": "stdout",
     "output_type": "stream",
     "text": [
      "0 satellite_l2_template.json\n",
      "1 satellite_L3_L4_template.json\n",
      "2 profile_sonde_template.json\n",
      "3 trajectory_drifter_template.json\n",
      "4 profile_ctd_template.json\n",
      "5 point_mooring_template.json\n",
      "6 meta_tmpl.json\n"
     ]
    }
   ],
   "source": [
    "# Listing all the template JSON files in smpl/ sub-directory\n",
    "parentdir = os.getcwd()\n",
    "jpath = os.path.join(parentdir, 'smpl') \n",
    "smpl_dir_list = os.listdir(jpath)\n",
    "x=[print(i,smpl) for i, smpl in enumerate(smpl_dir_list)]"
   ]
  },
  {
   "cell_type": "code",
   "execution_count": 32,
   "id": "cfa1b3e2",
   "metadata": {},
   "outputs": [
    {
     "name": "stdin",
     "output_type": "stream",
     "text": [
      "Choose the sample_json file by entering the index value:  3\n"
     ]
    },
    {
     "name": "stdout",
     "output_type": "stream",
     "text": [
      "/Users/earmstro/Downloads/metadata_templates-main/notebook/smpl/trajectory_drifter_template.json\n"
     ]
    }
   ],
   "source": [
    "# Choose the template JSON file from the list by entering the index value.\n",
    "ind = input(\"Choose the sample_json file by entering the index value: \")\n",
    "# example_json = smpl_dir_list[int(ind)]\n",
    "smpl_json = os.path.join(jpath,smpl_dir_list[int(ind)])\n",
    "print(smpl_json)"
   ]
  },
  {
   "cell_type": "code",
   "execution_count": 33,
   "id": "2f2efbed",
   "metadata": {},
   "outputs": [],
   "source": [
    "# Read the json file\n",
    "with open(smpl_json, 'r') as f:\n",
    "    mData = json.loads(f.read())"
   ]
  },
  {
   "cell_type": "code",
   "execution_count": 34,
   "id": "2b330595",
   "metadata": {},
   "outputs": [
    {
     "name": "stdout",
     "output_type": "stream",
     "text": [
      "{\n",
      "  \"dimensions\": {\n",
      "    \"time\": 54\n",
      "  },\n",
      "  \"variables\": {\n",
      "    \"time\": {\n",
      "      \"type\": \"double\",\n",
      "      \"dimensions\": [\n",
      "        \"time\"\n",
      "      ],\n",
      "      \"attributes\": {\n",
      "        \"long_name\": \"Time of Salinity Drifter measurement\",\n",
      "        \"axis\": \"T\",\n",
      "        \"standard_name\": \"time\",\n",
      "        \"units\": \"days since 1950-01-01T00:00:00\",\n",
      "        \"coverage_content_type\": \"coordinate\"\n",
      "      }\n",
      "    },\n",
      "    \"longitude\": {\n",
      "      \"type\": \"double\",\n",
      "      \"dimensions\": [\n",
      "        \"time\"\n",
      "      ],\n",
      "      \"attributes\": {\n",
      "        \"_FillValue\": -9999,\n",
      "        \"long_name\": \"Longitude of Salinity Drifter measurement\",\n",
      "        \"valid_max\": 180,\n",
      "        \"valid_min\": -180,\n",
      "        \"axis\": \"X\",\n",
      "        \"standard_name\": \"longitude\",\n",
      "        \"units\": \"degrees_east\",\n",
      "        \"coverage_content_type\": \"coordinate\"\n",
      "      }\n",
      "    },\n",
      "    \"latitude\": {\n",
      "      \"type\": \"double\",\n",
      "      \"dimensions\": [\n",
      "        \"time\"\n",
      "      ],\n",
      "      \"attributes\": {\n",
      "        \"_FillValue\": -9999,\n",
      "        \"long_name\": \"Latitude of Salinity Drifter measurement\",\n",
      "        \"valid_max\": 90,\n",
      "        \"valid_min\": -90,\n",
      "        \"axis\": \"Y\",\n",
      "        \"standard_name\": \"latitude\",\n",
      "        \"units\": \"degrees_north\",\n",
      "        \"coverage_content_type\": \"coordinate\"\n",
      "      }\n",
      "    },\n",
      "    \"example_temperature_at_18cm\": {\n",
      "      \"type\": \"double\",\n",
      "      \"dimensions\": [\n",
      "        \"time\"\n",
      "      ],\n",
      "      \"attributes\": {\n",
      "        \"_FillValue\": -9999,\n",
      "        \"long_name\": \"Sea water temperature at 18cm\",\n",
      "        \"valid_max\": 28.03,\n",
      "        \"valid_min\": 26.67,\n",
      "        \"coordinates\": \"time latitude longitude\",\n",
      "        \"standard_name\": \"sea_water_temperature\",\n",
      "        \"units\": \"degrees_C\",\n",
      "        \"coverage_content_type\": \"physicalMeasurement\"\n",
      "      }\n",
      "    },\n",
      "    \"example_quality_flag\": {\n",
      "      \"type\": \"double\",\n",
      "      \"dimensions\": [\n",
      "        \"time\"\n",
      "      ],\n",
      "      \"attributes\": {\n",
      "        \"long_name\": \"Quality Flag\",\n",
      "        \"flag_values\": \"-1.0, 0.0, 1.0\",\n",
      "        \"flag_meanings\": \"bad questionable good\",\n",
      "        \"standard_name\": \"quality_flag\",\n",
      "        \"coverage_content_type\": \"qualityInformation\"\n",
      "      }\n",
      "    },\n",
      "    \"example_id\": {\n",
      "      \"type\": \"double\",\n",
      "      \"dimensions\": [\n",
      "        \"time\"\n",
      "      ],\n",
      "      \"attributes\": {\n",
      "        \"long_name\": \"Drifter ID\",\n",
      "        \"standard_name\": \"drifter_id\",\n",
      "        \"coverage_content_type\": \"referenceInformation\"\n",
      "      }\n",
      "    }\n",
      "  },\n",
      "  \"global_attributes\": {\n",
      "    \"Conventions\": \"CF-1.6, ACDD 1.3\",\n",
      "    \"Metadata_Conventions\": \"Unidata Dataset Discovery v1.3\",\n",
      "    \"featureType\": \"trajectory\",\n",
      "    \"cdm_data_type\": \"Trajectory\",\n",
      "    \"nodc_template_version\": \"NODC_NetCDF_trajectory_Template_v2.0\",\n",
      "    \"standard_name_vocabulary\": \"CF Standard Name Table v27\",\n",
      "    \"title\": \"\",\n",
      "    \"summary\": \"\",\n",
      "    \"source\": \"\",\n",
      "    \"platform\": \"Drifter\",\n",
      "    \"instrument\": \"\",\n",
      "    \"uuid\": \"\",\n",
      "    \"id\": \"COLLECTION_SHORTNAME\",\n",
      "    \"metadata_link\": \"\",\n",
      "    \"references\": \"\",\n",
      "    \"sea_name\": \"\",\n",
      "    \"naming_authority\": \"\",\n",
      "    \"time_coverage_start\": \"YYYY-MM-DDT00:00:00Z\",\n",
      "    \"time_coverage_end\": \"YYYY-MM-DDT00:00:00Z\",\n",
      "    \"time_coverage_resolution\": \"PT1S\",\n",
      "    \"geospatial_lat_min\": -90,\n",
      "    \"geospatial_lat_max\": 90,\n",
      "    \"geospatial_lat_units\": \"degrees_north\",\n",
      "    \"geospatial_lat_resolution\": \"0.1 degree\",\n",
      "    \"geospatial_lon_min\": -180,\n",
      "    \"geospatial_lon_max\": 180,\n",
      "    \"geospatial_lon_units\": \"degrees_east\",\n",
      "    \"geospatial_lon_resolution\": \"0.1 degree\",\n",
      "    \"institution\": \"\",\n",
      "    \"publisher_name\": \"Physical Oceanography Distributed Active Archive Center, Jet Propulsion Laboratory, NASA\",\n",
      "    \"publisher_email\": \"podaac@podaac.jpl.nasa.gov\",\n",
      "    \"publisher_url\": \"https://podaac.jpl.nasa.gov\",\n",
      "    \"publisher_type\": \"Institution\",\n",
      "    \"publisher_institution\": \"NASA/JPL/PODAAC\",\n",
      "    \"creator_type\": \"\",\n",
      "    \"creator_institution\": \"\",\n",
      "    \"creator_email\": \"\",\n",
      "    \"creator_name\": \"\",\n",
      "    \"creator_role\": \"\",\n",
      "    \"project\": \"\",\n",
      "    \"processing_level\": \"\",\n",
      "    \"keywords_vocabulary\": \"CF Standard Names, GCMD Science Keywords\",\n",
      "    \"keywords\": \"\",\n",
      "    \"acknowledgement\": \"\",\n",
      "    \"date_created\": \"YYYY-MM-DDT00:00:00Z\",\n",
      "    \"date_modified\": \"YYYY-MM-DDT00:00:00Z\",\n",
      "    \"date_issued\": \"YYYY-MM-DDT00:00:00Z\",\n",
      "    \"date_metadata_modified\": \"YYYY-MM-DDT00:00:00Z\",\n",
      "    \"program\": \"\",\n",
      "    \"product_version\": \"\",\n",
      "    \"license\": \"\",\n",
      "    \"comment\": \"\"\n",
      "  }\n",
      "}\n"
     ]
    }
   ],
   "source": [
    "# Print the sample json file\n",
    "json_formatted_str = json.dumps(mData, indent=2)\n",
    "print(json_formatted_str)"
   ]
  },
  {
   "cell_type": "code",
   "execution_count": 75,
   "id": "19bcba09",
   "metadata": {},
   "outputs": [],
   "source": [
    "# function to add and remove key:value pair\n",
    "def add_rem_attri(grp_dict, isValGrp = ''):\n",
    "    # Add the new attribute\n",
    "    newKey = input(\"++ Add a new attribute KEY? (KEY-Name/Enter(no)): \")\n",
    "    while newKey != '':\n",
    "        if isValGrp == 'var':\n",
    "            newValtmpl = input(\"Enter the template(example) var name: \")\n",
    "            grp_dict[newKey]= grp_dict[newValtmpl]\n",
    "        else:\n",
    "            grp_dict[newKey]= ''\n",
    "            \n",
    "        newKey = input(\"++ Add another new attribute KEY? (KEY-Name/Enter(no)): \")\n",
    "            \n",
    "    # Remove the example_var variables\n",
    "    delKey = input(\"-- Delete a attribute KEY? (KEY-Name/Enter(no)): \")\n",
    "    while delKey != '':\n",
    "        if delKey in grp_dict.keys(): \n",
    "            del grp_dict[delKey]\n",
    "\n",
    "        delKey = input(\"-- Delete another KEY? (KEY-Name/Enter(no)): \")\n",
    "        \n",
    "    print([key for key in grp_dict.keys()])\n"
   ]
  },
  {
   "cell_type": "code",
   "execution_count": 36,
   "id": "c2a4d567",
   "metadata": {},
   "outputs": [],
   "source": [
    "# A recursive function to change the attribute values.\n",
    "def change_val(grp_attr):\n",
    "    for key, value in grp_attr.items():\n",
    "        if (type(value) is dict):\n",
    "            #print(\"\\n\", \"GROUP NAME: \" + key)\n",
    "            x = input(\"#### Change the attributes of '\" + key + \"'? (Y/Enter(no)): \")\n",
    "            if x.lower() == 'y':\n",
    "                # Print the json file\n",
    "                json_formatted_str = json.dumps(value, indent=2)\n",
    "                print(json_formatted_str)\n",
    "                change_val(value)\n",
    "        else:\n",
    "            #print ('\\t', key, ' = ', value)\n",
    "            x = input(\"--> Change the '\" + key + \"' value? (Y/Enter(no)): \")\n",
    "            if x.lower() == 'y':\n",
    "                type_str = input(\"  -->> Enter the data type (int, float, list, or default('str')): \")\n",
    "                if type_str ==  \"int\":\n",
    "                    grp_attr[key] = int(input(\"Enter new value for '\" + key + \"': \"))\n",
    "                elif type_str ==  \"float\":\n",
    "                    grp_attr[key] = float(input(\"Enter new value for '\" + key + \"': \"))\n",
    "                elif type_str ==  \"list\":\n",
    "                    list_type = input(\"  -->> Enter the LIST type (int, float, or default('str')): \")\n",
    "                    strList = input(\"Enter new value for '\" + key + \"': \").split(',')\n",
    "                    if list_type ==  \"int\":\n",
    "                        grp_attr[key] = list(map(int,strList))\n",
    "                    elif list_type ==  \"float\":\n",
    "                        grp_attr[key] = list(map(float,strList))\n",
    "                    else:\n",
    "                        grp_attr[key] = strList\n",
    "                else:\n",
    "                    grp_attr[key] = input(\"Enter new value for '\" + key + \"': \")"
   ]
  },
  {
   "cell_type": "markdown",
   "id": "367d543f",
   "metadata": {},
   "source": [
    "# Review and change \"dimensions\""
   ]
  },
  {
   "cell_type": "code",
   "execution_count": 37,
   "id": "aab7acbe",
   "metadata": {},
   "outputs": [
    {
     "data": {
      "text/plain": [
       "{'time': 54}"
      ]
     },
     "execution_count": 37,
     "metadata": {},
     "output_type": "execute_result"
    }
   ],
   "source": [
    "# dimensions fields\n",
    "dims = mData['dimensions']\n",
    "dims"
   ]
  },
  {
   "cell_type": "code",
   "execution_count": 38,
   "id": "bbe7ad0a",
   "metadata": {},
   "outputs": [
    {
     "name": "stdin",
     "output_type": "stream",
     "text": [
      "++ Add a new attribute KEY? (KEY-Name/Enter(no)):  depth\n",
      "++ Add another new attribute KEY? (KEY-Name/Enter(no)):  latitude\n",
      "++ Add another new attribute KEY? (KEY-Name/Enter(no)):  longitude\n",
      "++ Add another new attribute KEY? (KEY-Name/Enter(no)):  \n",
      "-- Delete a attribute KEY? (KEY-Name/Enter(no)):  \n"
     ]
    },
    {
     "name": "stdout",
     "output_type": "stream",
     "text": [
      "['time', 'depth', 'latitude', 'longitude']\n"
     ]
    }
   ],
   "source": [
    "# Add and/or remove Key:Value pairs of dimensions\n",
    "add_rem_attri(dims)"
   ]
  },
  {
   "cell_type": "code",
   "execution_count": 56,
   "id": "a6de7057",
   "metadata": {},
   "outputs": [
    {
     "name": "stdin",
     "output_type": "stream",
     "text": [
      "--> Change the 'time' value? (Y/Enter(no)):  \n",
      "--> Change the 'depth' value? (Y/Enter(no)):  \n",
      "--> Change the 'latitude' value? (Y/Enter(no)):  y\n",
      "  -->> Enter the data type (int, float, list, or default('str')):  int\n",
      "Enter new value for 'latitude':  100\n",
      "--> Change the 'longitude' value? (Y/Enter(no)):  y\n",
      "  -->> Enter the data type (int, float, list, or default('str')):  int\n",
      "Enter new value for 'longitude':  200\n"
     ]
    }
   ],
   "source": [
    "# Review and change the attribute values \n",
    "change_val(dims)"
   ]
  },
  {
   "cell_type": "code",
   "execution_count": 57,
   "id": "dc93c4a6",
   "metadata": {},
   "outputs": [
    {
     "name": "stdout",
     "output_type": "stream",
     "text": [
      "{'time': 60, 'depth': 10, 'latitude': 100, 'longitude': 200}\n"
     ]
    }
   ],
   "source": [
    "print(dims)"
   ]
  },
  {
   "cell_type": "markdown",
   "id": "c3dbb0d7",
   "metadata": {},
   "source": [
    "# Review and change \"global attributes\""
   ]
  },
  {
   "cell_type": "code",
   "execution_count": 41,
   "id": "5e29700c",
   "metadata": {},
   "outputs": [
    {
     "data": {
      "text/plain": [
       "{'Conventions': 'CF-1.6, ACDD 1.3',\n",
       " 'Metadata_Conventions': 'Unidata Dataset Discovery v1.3',\n",
       " 'featureType': 'trajectory',\n",
       " 'cdm_data_type': 'Trajectory',\n",
       " 'nodc_template_version': 'NODC_NetCDF_trajectory_Template_v2.0',\n",
       " 'standard_name_vocabulary': 'CF Standard Name Table v27',\n",
       " 'title': '',\n",
       " 'summary': '',\n",
       " 'source': '',\n",
       " 'platform': 'Drifter',\n",
       " 'instrument': '',\n",
       " 'uuid': '',\n",
       " 'id': 'COLLECTION_SHORTNAME',\n",
       " 'metadata_link': '',\n",
       " 'references': '',\n",
       " 'sea_name': '',\n",
       " 'naming_authority': '',\n",
       " 'time_coverage_start': 'YYYY-MM-DDT00:00:00Z',\n",
       " 'time_coverage_end': 'YYYY-MM-DDT00:00:00Z',\n",
       " 'time_coverage_resolution': 'PT1S',\n",
       " 'geospatial_lat_min': -90,\n",
       " 'geospatial_lat_max': 90,\n",
       " 'geospatial_lat_units': 'degrees_north',\n",
       " 'geospatial_lat_resolution': '0.1 degree',\n",
       " 'geospatial_lon_min': -180,\n",
       " 'geospatial_lon_max': 180,\n",
       " 'geospatial_lon_units': 'degrees_east',\n",
       " 'geospatial_lon_resolution': '0.1 degree',\n",
       " 'institution': '',\n",
       " 'publisher_name': 'Physical Oceanography Distributed Active Archive Center, Jet Propulsion Laboratory, NASA',\n",
       " 'publisher_email': 'podaac@podaac.jpl.nasa.gov',\n",
       " 'publisher_url': 'https://podaac.jpl.nasa.gov',\n",
       " 'publisher_type': 'Institution',\n",
       " 'publisher_institution': 'NASA/JPL/PODAAC',\n",
       " 'creator_type': '',\n",
       " 'creator_institution': '',\n",
       " 'creator_email': '',\n",
       " 'creator_name': '',\n",
       " 'creator_role': '',\n",
       " 'project': '',\n",
       " 'processing_level': '',\n",
       " 'keywords_vocabulary': 'CF Standard Names, GCMD Science Keywords',\n",
       " 'keywords': '',\n",
       " 'acknowledgement': '',\n",
       " 'date_created': 'YYYY-MM-DDT00:00:00Z',\n",
       " 'date_modified': 'YYYY-MM-DDT00:00:00Z',\n",
       " 'date_issued': 'YYYY-MM-DDT00:00:00Z',\n",
       " 'date_metadata_modified': 'YYYY-MM-DDT00:00:00Z',\n",
       " 'program': '',\n",
       " 'product_version': '',\n",
       " 'license': '',\n",
       " 'comment': ''}"
      ]
     },
     "execution_count": 41,
     "metadata": {},
     "output_type": "execute_result"
    }
   ],
   "source": [
    "# Global attribute dict\n",
    "glb_attr = mData['global_attributes']\n",
    "glb_attr"
   ]
  },
  {
   "cell_type": "code",
   "execution_count": 42,
   "id": "51435bdd",
   "metadata": {},
   "outputs": [
    {
     "name": "stdin",
     "output_type": "stream",
     "text": [
      "++ Add a new attribute KEY? (KEY-Name/Enter(no)):  cruise_id\n",
      "++ Add another new attribute KEY? (KEY-Name/Enter(no)):  \n",
      "-- Delete a attribute KEY? (KEY-Name/Enter(no)):  \n"
     ]
    },
    {
     "name": "stdout",
     "output_type": "stream",
     "text": [
      "['Conventions', 'Metadata_Conventions', 'featureType', 'cdm_data_type', 'nodc_template_version', 'standard_name_vocabulary', 'title', 'summary', 'source', 'platform', 'instrument', 'uuid', 'id', 'metadata_link', 'references', 'sea_name', 'naming_authority', 'time_coverage_start', 'time_coverage_end', 'time_coverage_resolution', 'geospatial_lat_min', 'geospatial_lat_max', 'geospatial_lat_units', 'geospatial_lat_resolution', 'geospatial_lon_min', 'geospatial_lon_max', 'geospatial_lon_units', 'geospatial_lon_resolution', 'institution', 'publisher_name', 'publisher_email', 'publisher_url', 'publisher_type', 'publisher_institution', 'creator_type', 'creator_institution', 'creator_email', 'creator_name', 'creator_role', 'project', 'processing_level', 'keywords_vocabulary', 'keywords', 'acknowledgement', 'date_created', 'date_modified', 'date_issued', 'date_metadata_modified', 'program', 'product_version', 'license', 'comment', 'cruise_id']\n"
     ]
    }
   ],
   "source": [
    "# Add and/or remove Key:Value pairs of dimensions\n",
    "add_rem_attri(glb_attr)"
   ]
  },
  {
   "cell_type": "code",
   "execution_count": null,
   "id": "0943e3bc",
   "metadata": {},
   "outputs": [],
   "source": [
    "# Loop through the global attributes, change the attribute value as needed.\n",
    "change_val(glb_attr)"
   ]
  },
  {
   "cell_type": "code",
   "execution_count": 43,
   "id": "b791c9e0",
   "metadata": {},
   "outputs": [
    {
     "data": {
      "text/plain": [
       "{'Conventions': 'CF-1.6, ACDD 1.3',\n",
       " 'Metadata_Conventions': 'Unidata Dataset Discovery v1.3',\n",
       " 'featureType': 'trajectory',\n",
       " 'cdm_data_type': 'Trajectory',\n",
       " 'nodc_template_version': 'NODC_NetCDF_trajectory_Template_v2.0',\n",
       " 'standard_name_vocabulary': 'CF Standard Name Table v27',\n",
       " 'title': '',\n",
       " 'summary': '',\n",
       " 'source': '',\n",
       " 'platform': 'Drifter',\n",
       " 'instrument': '',\n",
       " 'uuid': '',\n",
       " 'id': 'COLLECTION_SHORTNAME',\n",
       " 'metadata_link': '',\n",
       " 'references': '',\n",
       " 'sea_name': '',\n",
       " 'naming_authority': '',\n",
       " 'time_coverage_start': 'YYYY-MM-DDT00:00:00Z',\n",
       " 'time_coverage_end': 'YYYY-MM-DDT00:00:00Z',\n",
       " 'time_coverage_resolution': 'PT1S',\n",
       " 'geospatial_lat_min': -90,\n",
       " 'geospatial_lat_max': 90,\n",
       " 'geospatial_lat_units': 'degrees_north',\n",
       " 'geospatial_lat_resolution': '0.1 degree',\n",
       " 'geospatial_lon_min': -180,\n",
       " 'geospatial_lon_max': 180,\n",
       " 'geospatial_lon_units': 'degrees_east',\n",
       " 'geospatial_lon_resolution': '0.1 degree',\n",
       " 'institution': '',\n",
       " 'publisher_name': 'Physical Oceanography Distributed Active Archive Center, Jet Propulsion Laboratory, NASA',\n",
       " 'publisher_email': 'podaac@podaac.jpl.nasa.gov',\n",
       " 'publisher_url': 'https://podaac.jpl.nasa.gov',\n",
       " 'publisher_type': 'Institution',\n",
       " 'publisher_institution': 'NASA/JPL/PODAAC',\n",
       " 'creator_type': '',\n",
       " 'creator_institution': '',\n",
       " 'creator_email': '',\n",
       " 'creator_name': '',\n",
       " 'creator_role': '',\n",
       " 'project': '',\n",
       " 'processing_level': '',\n",
       " 'keywords_vocabulary': 'CF Standard Names, GCMD Science Keywords',\n",
       " 'keywords': '',\n",
       " 'acknowledgement': '',\n",
       " 'date_created': 'YYYY-MM-DDT00:00:00Z',\n",
       " 'date_modified': 'YYYY-MM-DDT00:00:00Z',\n",
       " 'date_issued': 'YYYY-MM-DDT00:00:00Z',\n",
       " 'date_metadata_modified': 'YYYY-MM-DDT00:00:00Z',\n",
       " 'program': '',\n",
       " 'product_version': '',\n",
       " 'license': '',\n",
       " 'comment': '',\n",
       " 'cruise_id': ''}"
      ]
     },
     "execution_count": 43,
     "metadata": {},
     "output_type": "execute_result"
    }
   ],
   "source": [
    "glb_attr"
   ]
  },
  {
   "cell_type": "markdown",
   "id": "c1419c3c",
   "metadata": {},
   "source": [
    "# Review and change \"variables\""
   ]
  },
  {
   "cell_type": "code",
   "execution_count": 72,
   "id": "eb225efd",
   "metadata": {},
   "outputs": [
    {
     "name": "stdout",
     "output_type": "stream",
     "text": [
      "['time', 'longitude', 'latitude', 'example_temperature_at_18cm', 'example_quality_flag', 'example_id', 'temperature_at_1m']\n"
     ]
    }
   ],
   "source": [
    "# Variables group\n",
    "var_attr = mData['variables']\n",
    "#var_attr\n",
    "print([key for key in var_attr.keys()])"
   ]
  },
  {
   "cell_type": "code",
   "execution_count": 74,
   "id": "14988642",
   "metadata": {},
   "outputs": [
    {
     "name": "stdin",
     "output_type": "stream",
     "text": [
      "++ Add a new attribute KEY? (KEY-Name/Enter(no)):  test\n",
      "Enter the template(example) var name:  example_id\n",
      "++ Add another new attribute KEY? (KEY-Name/Enter(no)):  \n",
      "-- Delete a attribute KEY? (KEY-Name/Enter(no)):  \n"
     ]
    },
    {
     "name": "stdout",
     "output_type": "stream",
     "text": [
      "['time', 'longitude', 'latitude', 'example_temperature_at_18cm', 'example_quality_flag', 'example_id', 'temperature_at_1m', 'test']\n"
     ]
    }
   ],
   "source": [
    "# Add and/or remove Key:Value for variables\n",
    "add_rem_attri(var_attr, 'var')"
   ]
  },
  {
   "cell_type": "code",
   "execution_count": 70,
   "id": "542c7dee",
   "metadata": {},
   "outputs": [
    {
     "name": "stdin",
     "output_type": "stream",
     "text": [
      "#### Change the attributes of 'time'? (Y/Enter(no)):  \n",
      "#### Change the attributes of 'longitude'? (Y/Enter(no)):  \n",
      "#### Change the attributes of 'latitude'? (Y/Enter(no)):  \n",
      "#### Change the attributes of 'example_temperature_at_18cm'? (Y/Enter(no)):  \n",
      "#### Change the attributes of 'example_quality_flag'? (Y/Enter(no)):  \n",
      "#### Change the attributes of 'example_id'? (Y/Enter(no)):  y\n"
     ]
    },
    {
     "name": "stdout",
     "output_type": "stream",
     "text": [
      "{\n",
      "  \"type\": \"double\",\n",
      "  \"dimensions\": [\n",
      "    \"time\"\n",
      "  ],\n",
      "  \"attributes\": {\n",
      "    \"long_name\": \"Drifter ID\",\n",
      "    \"standard_name\": \"drifter_id\",\n",
      "    \"coverage_content_type\": \"referenceInformation\"\n",
      "  }\n",
      "}\n"
     ]
    },
    {
     "name": "stdin",
     "output_type": "stream",
     "text": [
      "--> Change the 'type' value? (Y/Enter(no)):  \n",
      "--> Change the 'dimensions' value? (Y/Enter(no)):  \n",
      "#### Change the attributes of 'attributes'? (Y/Enter(no)):  y\n"
     ]
    },
    {
     "name": "stdout",
     "output_type": "stream",
     "text": [
      "{\n",
      "  \"long_name\": \"Drifter ID\",\n",
      "  \"standard_name\": \"drifter_id\",\n",
      "  \"coverage_content_type\": \"referenceInformation\"\n",
      "}\n"
     ]
    },
    {
     "name": "stdin",
     "output_type": "stream",
     "text": [
      "--> Change the 'long_name' value? (Y/Enter(no)):  \n",
      "--> Change the 'standard_name' value? (Y/Enter(no)):  \n",
      "--> Change the 'coverage_content_type' value? (Y/Enter(no)):  \n",
      "#### Change the attributes of 'temperature_at_1m'? (Y/Enter(no)):  \n"
     ]
    }
   ],
   "source": [
    "# Loop through the variables\n",
    "change_val(var_attr)\n"
   ]
  },
  {
   "cell_type": "code",
   "execution_count": 71,
   "id": "01620dfa",
   "metadata": {},
   "outputs": [
    {
     "data": {
      "text/plain": [
       "{'time': {'type': 'double',\n",
       "  'dimensions': ['time'],\n",
       "  'attributes': {'long_name': 'Time of Salinity Drifter measurement',\n",
       "   'axis': 'T',\n",
       "   'standard_name': 'time',\n",
       "   'units': 'days since 1950-01-01T00:00:00',\n",
       "   'coverage_content_type': 'coordinate'}},\n",
       " 'longitude': {'type': 'double',\n",
       "  'dimensions': ['time'],\n",
       "  'attributes': {'long_name': 'Longitude of Salinity Drifter measurement',\n",
       "   'valid_max': 180,\n",
       "   'valid_min': -180,\n",
       "   'axis': 'X',\n",
       "   'standard_name': 'longitude',\n",
       "   'units': 'degrees_east',\n",
       "   'coverage_content_type': 'coordinate'}},\n",
       " 'latitude': {'type': 'double',\n",
       "  'dimensions': ['time'],\n",
       "  'attributes': {'long_name': 'Latitude of Salinity Drifter measurement',\n",
       "   'valid_max': 90,\n",
       "   'valid_min': -90,\n",
       "   'axis': 'Y',\n",
       "   'standard_name': 'latitude',\n",
       "   'units': 'degrees_north',\n",
       "   'coverage_content_type': 'coordinate'}},\n",
       " 'example_temperature_at_18cm': {'type': 'double',\n",
       "  'dimensions': ['time'],\n",
       "  'attributes': {'long_name': 'Sea water temperature at 18cm',\n",
       "   'valid_max': 28.03,\n",
       "   'valid_min': 26.67,\n",
       "   'coordinates': 'time latitude longitude',\n",
       "   'standard_name': 'sea_water_temperature',\n",
       "   'units': 'degrees_C',\n",
       "   'coverage_content_type': 'physicalMeasurement'}},\n",
       " 'example_quality_flag': {'type': 'double',\n",
       "  'dimensions': ['time'],\n",
       "  'attributes': {'long_name': 'Quality Flag',\n",
       "   'flag_values': '-1.0, 0.0, 1.0',\n",
       "   'flag_meanings': 'bad questionable good',\n",
       "   'standard_name': 'quality_flag',\n",
       "   'coverage_content_type': 'qualityInformation'}},\n",
       " 'example_id': {'type': 'double',\n",
       "  'dimensions': ['time'],\n",
       "  'attributes': {'long_name': 'Drifter ID',\n",
       "   'standard_name': 'drifter_id',\n",
       "   'coverage_content_type': 'referenceInformation'}},\n",
       " 'temperature_at_1m': {'type': 'double',\n",
       "  'dimensions': ['time'],\n",
       "  'attributes': {'long_name': 'Sea water temperature at 18cm',\n",
       "   'valid_max': 28.03,\n",
       "   'valid_min': 26.67,\n",
       "   'coordinates': 'time latitude longitude',\n",
       "   'standard_name': 'sea_water_temperature',\n",
       "   'units': 'degrees_C',\n",
       "   'coverage_content_type': 'physicalMeasurement'}}}"
      ]
     },
     "execution_count": 71,
     "metadata": {},
     "output_type": "execute_result"
    }
   ],
   "source": [
    "# reviewing all the variables\n",
    "var_attr"
   ]
  },
  {
   "cell_type": "markdown",
   "id": "62b8255e",
   "metadata": {},
   "source": [
    "# Write the new metadata to netCDF and json files to out_dir directory"
   ]
  },
  {
   "cell_type": "code",
   "execution_count": 58,
   "id": "ad4b1410",
   "metadata": {},
   "outputs": [
    {
     "data": {
      "text/plain": [
       "'/Users/earmstro/Downloads/metadata_templates-main/notebook/out_dir/trajectory_drifter.nc'"
      ]
     },
     "execution_count": 58,
     "metadata": {},
     "output_type": "execute_result"
    }
   ],
   "source": [
    "# Define the output netCDF file path\n",
    "oPath = os.path.join(parentdir, 'out_dir') \n",
    "empty_nc = os.path.join(oPath, output_file + '.nc')\n",
    "empty_nc"
   ]
  },
  {
   "cell_type": "code",
   "execution_count": 59,
   "id": "80e266b3",
   "metadata": {},
   "outputs": [],
   "source": [
    "if not os.path.exists(oPath):\n",
    "    os.makedirs(oPath)"
   ]
  },
  {
   "cell_type": "code",
   "execution_count": 68,
   "id": "be70b7e3",
   "metadata": {},
   "outputs": [
    {
     "name": "stdout",
     "output_type": "stream",
     "text": [
      "Empty netCDF file '/Users/earmstro/Downloads/metadata_templates-main/notebook/out_dir/trajectory_drifter.nc' created successfully with embedded JSON metadata attributes.\n"
     ]
    }
   ],
   "source": [
    "# Create an empty netCDF file\n",
    "with Dataset(empty_nc, \"w\") as nc:\n",
    "    # Add dimensions\n",
    "    for dim_name, dim_size in mData[\"dimensions\"].items():\n",
    "        nc.createDimension(dim_name, dim_size)\n",
    "        \n",
    "    # Add variables and their metadata\n",
    "    for var_name, var_attrs in mData[\"variables\"].items():\n",
    "     fill_value = var_attrs[\"attributes\"].pop(\"_FillValue\", None)  # remove it before setattr()\n",
    "     var = nc.createVariable(\n",
    "        var_name,\n",
    "        var_attrs[\"type\"],\n",
    "        var_attrs[\"dimensions\"],\n",
    "        fill_value=fill_value)\n",
    "     for attr_name, attr_value in var_attrs[\"attributes\"].items():\n",
    "       setattr(var, attr_name, attr_value)\n",
    "\n",
    "    # Add global attributes\n",
    "    for global_attr_name, global_attr_value in mData[\"global_attributes\"].items():\n",
    "        setattr(nc, global_attr_name, global_attr_value)\n",
    "\n",
    "\n",
    "print(f\"Empty netCDF file '{empty_nc}' created successfully with embedded JSON metadata attributes.\")"
   ]
  },
  {
   "cell_type": "code",
   "execution_count": 61,
   "id": "5a6e8b7c",
   "metadata": {},
   "outputs": [],
   "source": [
    "# Output the modified metadata dict to a json file.\n",
    "out_json = os.path.join(oPath, output_file + '.json')\n",
    "with open(out_json, 'w', encoding='utf-8') as f:\n",
    "    json.dump(mData, f, ensure_ascii=False, indent=4)"
   ]
  },
  {
   "cell_type": "code",
   "execution_count": 69,
   "id": "ecb8f6b1",
   "metadata": {},
   "outputs": [
    {
     "name": "stdout",
     "output_type": "stream",
     "text": [
      "netcdf trajectory_drifter {\n",
      "dimensions:\n",
      "\ttime = 60 ;\n",
      "\tdepth = 10 ;\n",
      "\tlatitude = 100 ;\n",
      "\tlongitude = 200 ;\n",
      "variables:\n",
      "\tdouble time(time) ;\n",
      "\t\ttime:long_name = \"Time of Salinity Drifter measurement\" ;\n",
      "\t\ttime:axis = \"T\" ;\n",
      "\t\ttime:standard_name = \"time\" ;\n",
      "\t\ttime:units = \"days since 1950-01-01T00:00:00\" ;\n",
      "\t\ttime:coverage_content_type = \"coordinate\" ;\n",
      "\tdouble longitude(time) ;\n",
      "\t\tlongitude:long_name = \"Longitude of Salinity Drifter measurement\" ;\n",
      "\t\tlongitude:valid_max = 180. ;\n",
      "\t\tlongitude:valid_min = -180. ;\n",
      "\t\tlongitude:axis = \"X\" ;\n",
      "\t\tlongitude:standard_name = \"longitude\" ;\n",
      "\t\tlongitude:units = \"degrees_east\" ;\n",
      "\t\tlongitude:coverage_content_type = \"coordinate\" ;\n",
      "\tdouble latitude(time) ;\n",
      "\t\tlatitude:long_name = \"Latitude of Salinity Drifter measurement\" ;\n",
      "\t\tlatitude:valid_max = 90. ;\n",
      "\t\tlatitude:valid_min = -90. ;\n",
      "\t\tlatitude:axis = \"Y\" ;\n",
      "\t\tlatitude:standard_name = \"latitude\" ;\n",
      "\t\tlatitude:units = \"degrees_north\" ;\n",
      "\t\tlatitude:coverage_content_type = \"coordinate\" ;\n",
      "\tdouble example_temperature_at_18cm(time) ;\n",
      "\t\texample_temperature_at_18cm:long_name = \"Sea water temperature at 18cm\" ;\n",
      "\t\texample_temperature_at_18cm:valid_max = 28.03 ;\n",
      "\t\texample_temperature_at_18cm:valid_min = 26.67 ;\n",
      "\t\texample_temperature_at_18cm:coordinates = \"time latitude longitude\" ;\n",
      "\t\texample_temperature_at_18cm:standard_name = \"sea_water_temperature\" ;\n",
      "\t\texample_temperature_at_18cm:units = \"degrees_C\" ;\n",
      "\t\texample_temperature_at_18cm:coverage_content_type = \"physicalMeasurement\" ;\n",
      "\tdouble example_quality_flag(time) ;\n",
      "\t\texample_quality_flag:long_name = \"Quality Flag\" ;\n",
      "\t\texample_quality_flag:flag_values = \"-1.0, 0.0, 1.0\" ;\n",
      "\t\texample_quality_flag:flag_meanings = \"bad questionable good\" ;\n",
      "\t\texample_quality_flag:standard_name = \"quality_flag\" ;\n",
      "\t\texample_quality_flag:coverage_content_type = \"qualityInformation\" ;\n",
      "\tdouble example_id(time) ;\n",
      "\t\texample_id:long_name = \"Drifter ID\" ;\n",
      "\t\texample_id:standard_name = \"drifter_id\" ;\n",
      "\t\texample_id:coverage_content_type = \"referenceInformation\" ;\n",
      "\tdouble temperature_at_1m(time) ;\n",
      "\t\ttemperature_at_1m:long_name = \"Sea water temperature at 18cm\" ;\n",
      "\t\ttemperature_at_1m:valid_max = 28.03 ;\n",
      "\t\ttemperature_at_1m:valid_min = 26.67 ;\n",
      "\t\ttemperature_at_1m:coordinates = \"time latitude longitude\" ;\n",
      "\t\ttemperature_at_1m:standard_name = \"sea_water_temperature\" ;\n",
      "\t\ttemperature_at_1m:units = \"degrees_C\" ;\n",
      "\t\ttemperature_at_1m:coverage_content_type = \"physicalMeasurement\" ;\n",
      "\n",
      "// global attributes:\n",
      "\t\t:Conventions = \"CF-1.6, ACDD 1.3\" ;\n",
      "\t\t:Metadata_Conventions = \"Unidata Dataset Discovery v1.3\" ;\n",
      "\t\t:featureType = \"trajectory\" ;\n",
      "\t\t:cdm_data_type = \"Trajectory\" ;\n",
      "\t\t:nodc_template_version = \"NODC_NetCDF_trajectory_Template_v2.0\" ;\n",
      "\t\t:standard_name_vocabulary = \"CF Standard Name Table v27\" ;\n",
      "\t\t:title = \"\" ;\n",
      "\t\t:summary = \"\" ;\n",
      "\t\t:source = \"\" ;\n",
      "\t\t:platform = \"Drifter\" ;\n",
      "\t\t:instrument = \"\" ;\n",
      "\t\t:uuid = \"\" ;\n",
      "\t\t:id = \"COLLECTION_SHORTNAME\" ;\n",
      "\t\t:metadata_link = \"\" ;\n",
      "\t\t:references = \"\" ;\n",
      "\t\t:sea_name = \"\" ;\n",
      "\t\t:naming_authority = \"\" ;\n",
      "\t\t:time_coverage_start = \"YYYY-MM-DDT00:00:00Z\" ;\n",
      "\t\t:time_coverage_end = \"YYYY-MM-DDT00:00:00Z\" ;\n",
      "\t\t:time_coverage_resolution = \"PT1S\" ;\n",
      "\t\t:geospatial_lat_min = -90LL ;\n",
      "\t\t:geospatial_lat_max = 90LL ;\n",
      "\t\t:geospatial_lat_units = \"degrees_north\" ;\n",
      "\t\t:geospatial_lat_resolution = \"0.1 degree\" ;\n",
      "\t\t:geospatial_lon_min = -180LL ;\n",
      "\t\t:geospatial_lon_max = 180LL ;\n",
      "\t\t:geospatial_lon_units = \"degrees_east\" ;\n",
      "\t\t:geospatial_lon_resolution = \"0.1 degree\" ;\n",
      "\t\t:institution = \"\" ;\n",
      "\t\t:publisher_name = \"Physical Oceanography Distributed Active Archive Center, Jet Propulsion Laboratory, NASA\" ;\n",
      "\t\t:publisher_email = \"podaac@podaac.jpl.nasa.gov\" ;\n",
      "\t\t:publisher_url = \"https://podaac.jpl.nasa.gov\" ;\n",
      "\t\t:publisher_type = \"Institution\" ;\n",
      "\t\t:publisher_institution = \"NASA/JPL/PODAAC\" ;\n",
      "\t\t:creator_type = \"\" ;\n",
      "\t\t:creator_institution = \"\" ;\n",
      "\t\t:creator_email = \"\" ;\n",
      "\t\t:creator_name = \"\" ;\n",
      "\t\t:creator_role = \"\" ;\n",
      "\t\t:project = \"\" ;\n",
      "\t\t:processing_level = \"\" ;\n",
      "\t\t:keywords_vocabulary = \"CF Standard Names, GCMD Science Keywords\" ;\n",
      "\t\t:keywords = \"\" ;\n",
      "\t\t:acknowledgement = \"\" ;\n",
      "\t\t:date_created = \"YYYY-MM-DDT00:00:00Z\" ;\n",
      "\t\t:date_modified = \"YYYY-MM-DDT00:00:00Z\" ;\n",
      "\t\t:date_issued = \"YYYY-MM-DDT00:00:00Z\" ;\n",
      "\t\t:date_metadata_modified = \"YYYY-MM-DDT00:00:00Z\" ;\n",
      "\t\t:program = \"\" ;\n",
      "\t\t:product_version = \"\" ;\n",
      "\t\t:license = \"\" ;\n",
      "\t\t:comment = \"\" ;\n",
      "\t\t:cruise_id = \"\" ;\n",
      "}\n"
     ]
    }
   ],
   "source": [
    "# system call to display the customized meta info from the netCDF. \n",
    "!ncdump -h {empty_nc}"
   ]
  },
  {
   "cell_type": "code",
   "execution_count": null,
   "id": "d29a6ca2",
   "metadata": {},
   "outputs": [],
   "source": []
  }
 ],
 "metadata": {
  "kernelspec": {
   "display_name": "Python 3 (ipykernel)",
   "language": "python",
   "name": "python3"
  },
  "language_info": {
   "codemirror_mode": {
    "name": "ipython",
    "version": 3
   },
   "file_extension": ".py",
   "mimetype": "text/x-python",
   "name": "python",
   "nbconvert_exporter": "python",
   "pygments_lexer": "ipython3",
   "version": "3.12.9"
  }
 },
 "nbformat": 4,
 "nbformat_minor": 5
}
